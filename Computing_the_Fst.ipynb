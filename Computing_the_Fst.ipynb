{
 "cells": [
  {
   "cell_type": "markdown",
   "metadata": {},
   "source": [
    "# Calcul du $F_{ST}$ à partir d'un jeu de données en format .ped\n",
    "\n",
    "Nous allons calculer la valeur du $F_{ST}$ à partir d'un dataset sous format ped (voir la description du format ped [ici](http://www.shapeit.fr/pages/m02_formats/pedmap.html)). \n",
    "\n",
    "Les fichiers de données peut être téléchargé [ici](https://housecloud.willyrv.com/index.php/s/kN56oKNgkbmPxUf)"
   ]
  },
  {
   "cell_type": "code",
   "execution_count": 1,
   "metadata": {
    "collapsed": false
   },
   "outputs": [],
   "source": [
    "#### Quelques fonctions utiles  ####\n",
    "\n",
    "getGenotypesLine <- function(pedSnpsLine){\n",
    "  return(unlist(lapply(seq(1, length(pedSnpsLine), 2), \n",
    "                       FUN = function(i) return(paste(pedSnpsLine[i], pedSnpsLine[i+1], sep = \"\")))))\n",
    "}\n",
    "\n",
    "getGenotypes <- function(pedTable){\n",
    "  return(t(apply(pedTable[, -c(1:6)], MARGIN = 1, getGenotypesLine)))\n",
    "}\n",
    "\n",
    "freqIBS <- function(genotypesData){\n",
    "  tempIBS <- 0\n",
    "  nbMrks <- dim(genotypesData)[2]-1\n",
    "  for (i in 2:nbMrks) {  # boucle sur les colonnes\n",
    "    mrkColumn <- genotypesData[, i]\n",
    "    alleles <- paste(mrkColumn, collapse = \"\")\n",
    "    allelesVect <- strsplit(alleles, split = \"\")[[1]]\n",
    "    allelesCount <- table(allelesVect)\n",
    "    allelesCountNoMissing <- allelesCount[!grepl(\"0\", names(allelesCount))]\n",
    "    if (length(allelesCountNoMissing > 0)) { # ne pas prendre en compte les markeurs ayant que de zéros\n",
    "      p <- allelesCountNoMissing[1]/sum(allelesCountNoMissing)\n",
    "      mrkIBS <- 1 - 2 * p * (1 - p)\n",
    "      tempIBS <- tempIBS + mrkIBS\n",
    "    }\n",
    "  }\n",
    "  IBS <- as.numeric(tempIBS) / nbMrks\n",
    "  return(IBS)\n",
    "}\n",
    "\n",
    "computeFst <- function(genotypesData){\n",
    "  ####  Calculer la frequence d'IBS dans la population total\n",
    "  fBar <- freqIBS(genotypesData)\n",
    "  \n",
    "  ####  Calculer la frequence d'IBS à l'intérieur d'une sous-population\n",
    "  populations <- unique(crossData[, 1])\n",
    "  f0Temp <- 0\n",
    "  for (p in populations) {\n",
    "    subPopulation <- myData[myData[, 1] == p, ]\n",
    "    f0Temp <- f0Temp + freqIBS(subPopulation)\n",
    "  }\n",
    "  f0 <- f0Temp / length(populations)\n",
    "  \n",
    "  #### Calcul du Fst \n",
    "  Fst <- (f0 - fBar) / (1 - fBar)\n",
    "  return(Fst)\n",
    "}\n"
   ]
  },
  {
   "cell_type": "code",
   "execution_count": 2,
   "metadata": {
    "collapsed": true
   },
   "outputs": [],
   "source": [
    "# Lire les données en format ped \n",
    "crossData <- read.table(\"./dataSet_1.ped\", stringsAsFactors = FALSE)\n",
    "\n",
    "myData <- cbind.data.frame(crossData[, 1], getGenotypes(crossData))"
   ]
  },
  {
   "cell_type": "code",
   "execution_count": 3,
   "metadata": {
    "collapsed": false
   },
   "outputs": [
    {
     "data": {
      "text/html": [
       "0.156943535966212"
      ],
      "text/latex": [
       "0.156943535966212"
      ],
      "text/markdown": [
       "0.156943535966212"
      ],
      "text/plain": [
       "[1] 0.1569435"
      ]
     },
     "metadata": {},
     "output_type": "display_data"
    }
   ],
   "source": [
    "# Calcul du F_{ST}\n",
    "computeFst(myData)"
   ]
  },
  {
   "cell_type": "code",
   "execution_count": 4,
   "metadata": {
    "collapsed": false
   },
   "outputs": [
    {
     "data": {
      "text/html": [
       "0.15054917727126"
      ],
      "text/latex": [
       "0.15054917727126"
      ],
      "text/markdown": [
       "0.15054917727126"
      ],
      "text/plain": [
       "[1] 0.1505492"
      ]
     },
     "metadata": {},
     "output_type": "display_data"
    }
   ],
   "source": [
    "# Lire les données en format ped \n",
    "crossData <- read.table(\"./dataSet_2.ped\", stringsAsFactors = FALSE)\n",
    "\n",
    "myData <- cbind.data.frame(crossData[, 1], getGenotypes(crossData))\n",
    "\n",
    "\n",
    "# Calcul du F_{ST}\n",
    "computeFst(myData)"
   ]
  },
  {
   "cell_type": "code",
   "execution_count": 5,
   "metadata": {
    "collapsed": false
   },
   "outputs": [
    {
     "data": {
      "text/html": [
       "0.114837130587764"
      ],
      "text/latex": [
       "0.114837130587764"
      ],
      "text/markdown": [
       "0.114837130587764"
      ],
      "text/plain": [
       "[1] 0.1148371"
      ]
     },
     "metadata": {},
     "output_type": "display_data"
    }
   ],
   "source": [
    "# Lire les données en format ped \n",
    "crossData <- read.table(\"./NEU_short.ped\", stringsAsFactors = FALSE)\n",
    "\n",
    "myData <- cbind.data.frame(crossData[, 1], getGenotypes(crossData))\n",
    "\n",
    "\n",
    "# Calcul du F_{ST}\n",
    "computeFst(myData)"
   ]
  },
  {
   "cell_type": "markdown",
   "metadata": {},
   "source": [
    "La valeur du $F_{ST}$ indique qu'il y a un certain niveau de structuration dans la population"
   ]
  },
  {
   "cell_type": "code",
   "execution_count": null,
   "metadata": {
    "collapsed": true
   },
   "outputs": [],
   "source": []
  }
 ],
 "metadata": {
  "kernelspec": {
   "display_name": "R",
   "language": "R",
   "name": "ir"
  },
  "language_info": {
   "codemirror_mode": "r",
   "file_extension": ".r",
   "mimetype": "text/x-r-source",
   "name": "R",
   "pygments_lexer": "r",
   "version": "3.3.3"
  }
 },
 "nbformat": 4,
 "nbformat_minor": 2
}
