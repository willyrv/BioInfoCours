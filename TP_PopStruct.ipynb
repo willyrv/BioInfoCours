{
 "cells": [
  {
   "cell_type": "markdown",
   "metadata": {},
   "source": [
    "# Modèles de population structurée\n",
    "\n",
    "Dans ce TP on va considérer le cas d'une population structurée en sous-populations (ou *demes*) qui échangent de matériel génétique par *migration* des individus.  \n",
    "Par example, 5 îles de taille $N$ avec un flux de gènes symmétrique (*n-islands model*) ![n-islands model](./nislands.png)\n",
    "\n",
    "Dans un premier temps on va s'intéresser aux arbres de coalescence.  \n",
    "Regardons les arbres de coalescence sous deux modèles différents avec taille constante :\n",
    "\n",
    "1. Population panmictique\n",
    "2. Population structurée (exemple, le n-islands model)"
   ]
  },
  {
   "cell_type": "code",
   "execution_count": null,
   "metadata": {},
   "outputs": [],
   "source": [
    "library(ape)\n",
    "library(phyclust)\n",
    "library(coala)\n",
    "\n",
    "activate_ms(priority = 500)\n",
    "n=100 # taille de l'échantillon\n",
    "loc=10000 # nombre de locus\n",
    "L=1000 # taille de chaque locus \n",
    "\n",
    "N=10000 # taille de la population\n",
    "mu=2*10^(-8) # taux de mutation par base et par génération\n",
    "theta=2*N*mu"
   ]
  },
  {
   "cell_type": "code",
   "execution_count": null,
   "metadata": {},
   "outputs": [],
   "source": [
    "# Modele panmictique\n",
    "model <- coal_model(sample_size=9,loci_number=loc, loci_length=L,ploidy=1) + \n",
    "          sumstat_trees()\n",
    "res <- simulate(model)\n",
    "tree=read.tree(text=res$trees[[1]])\n",
    "plot(tree,show.tip.label=TRUE,no.margin=FALSE,direction=\"downwards\")\n",
    "\n"
   ]
  },
  {
   "cell_type": "code",
   "execution_count": null,
   "metadata": {},
   "outputs": [],
   "source": [
    "model <- coal_model(sample_size=c(3, 3, 3),loci_number=loc, loci_length=L,ploidy=1) + \n",
    "  feat_migration(0.1, symmetric = TRUE) + sumstat_trees()\n",
    "res <- simulate(model)\n",
    "tree=read.tree(text=res$trees[[1]])\n",
    "plot(tree,show.tip.label=TRUE,no.margin=FALSE,direction=\"downwards\")"
   ]
  },
  {
   "cell_type": "markdown",
   "metadata": {},
   "source": [
    "Répétez plusieurs fois la simulation sous le scénario structuré. Il es possible de mettre de couleurs à la base de l'arbre avec le paramètre *tip.color*"
   ]
  },
  {
   "cell_type": "code",
   "execution_count": null,
   "metadata": {},
   "outputs": [],
   "source": [
    "model <- coal_model(sample_size=c(3, 3, 3),loci_number=loc, loci_length=L,ploidy=1) + \n",
    "  feat_migration(0.1, symmetric = TRUE) + sumstat_trees()\n",
    "res <- simulate(model)\n",
    "tree=read.tree(text=res$trees[[1]])\n",
    "plot(tree,show.tip.label=TRUE,no.margin=FALSE,direction=\"downwards\", \n",
    "    tip.color=c(\"red\", \"red\", \"red\", \"blue\", \"blue\", \"blue\", \"black\", \"black\", \"black\"))"
   ]
  },
  {
   "cell_type": "markdown",
   "metadata": {},
   "source": [
    "** Qu'est-ce qu'on observe ? **"
   ]
  },
  {
   "cell_type": "markdown",
   "metadata": {},
   "source": [
    "# Calcul des temps de coalescence moyens\n",
    "\n",
    "Il est possible de calculer la moyenne des temps de coalescence à l'aide de la fonction suivante :"
   ]
  },
  {
   "cell_type": "code",
   "execution_count": null,
   "metadata": {},
   "outputs": [],
   "source": [
    "computeMeanTree <- function(listOfTrees, nbOfTips, plotTree=FALSE){\n",
    "  # Computes the mean tree from a list. Trees must be in newick format\n",
    "  # and must have the same number of tips\n",
    "  #\n",
    "  # Args:\n",
    "  #   listOfTrees: list of character containing the trees\n",
    "  #   nbOfTips: integer, the number of tips the tree have\n",
    "  #   plotTree: logical, plot the tree or not\n",
    "  #\n",
    "  # Returns:\n",
    "  #   character, the computed mean tree in newick format\n",
    "  n <- length(listOfTrees)\n",
    "  branchingTimes <- matrix(rep(seq(1, nbOfTips - 1, 1), n), nrow = n)\n",
    "  for(i in seq(1, n, 1)){\n",
    "    newTree <- read.tree(text = listOfTrees[[i]])\n",
    "    branchingTimes[i, ] <- sort(branching.times(newTree))\n",
    "  }\n",
    "  meanTree <- apply(branchingTimes, MARGIN = 2, mean)\n",
    "  newickTree <- paste(\"(1:\", meanTree[1], \", 2:\", meanTree[1], \")\", sep = \"\")\n",
    "  \n",
    "  for (i in seq(2, length(meanTree), 1)){\n",
    "    newickTree <- paste(\"(\", newickTree, \":\", meanTree[i] - meanTree[i-1], \n",
    "                        \", \", i + 1, \":\", meanTree[i], \")\", sep = \"\")\n",
    "  }\n",
    "  newickTree <- paste(newickTree, \";\", sep = \"\")\n",
    "  if(plotTree){\n",
    "    tree2plot <- read.tree(text = newickTree)\n",
    "    branching.times(tree2plot)\n",
    "    plot(tree2plot)\n",
    "  }\n",
    "  return(newickTree)\n",
    "}\n"
   ]
  },
  {
   "cell_type": "markdown",
   "metadata": {},
   "source": [
    "Nous allons calculer les temps de coalescence moyens sous un scénario **panmictique** et un scénario **structuré**"
   ]
  },
  {
   "cell_type": "code",
   "execution_count": null,
   "metadata": {},
   "outputs": [],
   "source": [
    "# Modele panmictique\n",
    "sampleSize <- 9\n",
    "model <- coal_model(sample_size=sampleSize,loci_number=loc, loci_length=L,ploidy=1) + \n",
    "          sumstat_trees()\n",
    "result <- simulate(model)\n",
    "\n",
    "listOfTrees <- list()\n",
    "for(i in seq(1, length(result$trees))){\n",
    "  listOfTrees <- c(listOfTrees, result$trees[[i]][1])\n",
    "}\n",
    "meanTree <- computeMeanTree(listOfTrees = listOfTrees, nbOfTips = sampleSize, plotTree = TRUE)\n"
   ]
  },
  {
   "cell_type": "code",
   "execution_count": null,
   "metadata": {},
   "outputs": [],
   "source": [
    "# Modele structuré\n",
    "\n",
    "model <- coal_model(sample_size=c(3, 3, 3),loci_number=loc, loci_length=L,ploidy=1) + \n",
    "  feat_migration(0.1, symmetric = TRUE) + sumstat_trees()\n",
    "result <- simulate(model)\n",
    "\n",
    "listOfTrees <- list()\n",
    "for(i in seq(1, length(result$trees))){\n",
    "  listOfTrees <- c(listOfTrees, result$trees[[i]][1])\n",
    "}\n",
    "meanTree <- computeMeanTree(listOfTrees = listOfTrees, nbOfTips = 9, plotTree = TRUE)"
   ]
  },
  {
   "cell_type": "markdown",
   "metadata": {},
   "source": [
    "# Déficit en hétérozygotes dû à la structuration en sous-populations\n",
    "\n",
    "Considérons une population divisé en îles et un locus bi-allelique avec les allèles **a** et **A**. Soit $p$ la fréquénce de l'allèle **A** dans la population global et $p_{i}$ la fréquence de l'allèle **A** dans la sous-population $i$. La fréquence de l'allèle **a** dans la sous-population $i$ est donc $(1-p_{i})$. On supose *random-mating* à l'intérieur de chaque sous-population. La fréquence d'hétérozygotes **Aa** à l'intérieur de la sous-population $i$ est égale à :\n",
    "\n",
    "$$2p_{i}(1-p_{i})$$\n",
    "\n",
    "La fréquence de l'alléle **A** dans la population globale peut être calculée par :\n",
    "\n",
    "$$\\bar{p}=\\frac{1}{n}\\displaystyle\\sum_{i=1}^{n}p_{i}$$\n",
    "\n",
    "Sous l'hypothèse de *random-mating* à l'échelle de la population globale, la fréquence d'hétérozygotes devrait être égale à :\n",
    "\n",
    "$$H_{T}=2\\bar{p}(1-\\bar{p})$$\n",
    "\n",
    "Si on calcule la moyenne des fréquences d'hétérozygotes à l'intérieur de chaque île on obtient :\n",
    "\n",
    "$$\n",
    "\\begin{aligned}\n",
    "H_{S} &= \\frac{1}{n}\\displaystyle\\sum_{i=1}^{n}2p_{i}(1-p_{i}) = 2\\frac{1}{n}\\displaystyle\\sum_{i=1}^{n}p_{i} - 2\\frac{1}{n}\\displaystyle\\sum_{i=1}^{n}p_{i}^{2} = 2\\bar{p} - 2\\frac{1}{n}\\displaystyle\\sum_{i=1}^{n}p_{i}^{2}\\\\\n",
    "      &= 2\\bar{p} - 2\\bar{p}^{2} + 2\\bar{p}^{2} - 2\\frac{1}{n}\\displaystyle\\sum_{i=1}^{n}p_{i}^{2} \\\\\n",
    "      &= 2\\bar{p}(1 - \\bar{p}) + 2\\bar{p}^{2} - 2\\frac{1}{n}\\displaystyle\\sum_{i=1}^{n}p_{i}^{2} = H_{T} + 2\\bar{p}^{2} - 2\\frac{1}{n}\\displaystyle\\sum_{i=1}^{n}p_{i}^{2} \\\\\n",
    "      &= H_{T} + \\Bigg(2\\frac{1}{n^{2}}\\Big(\\displaystyle\\sum_{i=1}^{n}p_{i}\\Big)^2 - 2\\frac{1}{n}\\displaystyle\\sum_{i=1}^{n}p_{i}^{2} \\Bigg) \\\\\n",
    "      &= H_{T} - 2 \\Bigg(\\frac{1}{n}\\displaystyle\\sum_{i=1}^{n}p_{i}^{2} - \\Big(\\frac{1}{n}\\displaystyle\\sum_{i=1}^{n}p_{i}\\Big)^2 \\Bigg) \\\\\n",
    "      &= H_{T} - 2 Var(\\bar{p})\n",
    "\\end{aligned}\n",
    "$$\n",
    "\n",
    "\n",
    "On a donc \n",
    "$$H_{S} = H_{T} - 2Var(\\bar{p})$$\n",
    "\n",
    "ce qui veut dire qu'on aura un déficit en hétérozygotes (moins de diversité) à l'intérieur des îles."
   ]
  },
  {
   "cell_type": "markdown",
   "metadata": {},
   "source": [
    "Définition: IBS\n",
    "------------------\n",
    "\n",
    "On dira que deux gènes sont **IBS** (*Identic By State*) s'ils ont exactement égaux (c'est à dire, s'ils ont le même allèle). Sous certaines hypothèses (*infinite sites model*) cela veut dire qu'il n y a pas eu de mutation dans les lignées des deux gènes entre le présent et l'ancêtre comun le plus récent. \n",
    "\n",
    "Définition: le $F_{ST}$\n",
    "---------------------------\n",
    "\n",
    "Le $F_{ST}$ est défini en fonction la probabilité de deux gènes d'être \"identique\" (**IBS**) :\n",
    "\n",
    "$$F_{ST} = \\frac{f_0 - \\bar{f}}{1 - \\bar{f}}$$\n",
    "\n",
    "avec $f_0$ la probabilité que deux gènes dans la même sous-population soient identiques et $\\bar{f}$ la probabilité que deux gènes choisis au hassard dans l'ensemble de la population soient identiques (voir Herbots 1994 pour plus de détails).\n",
    "\n",
    "On note que, dans le cas d'un gène biallélique, la probabilité d'être identique peut être calculée en fonction des fréquences des allèles **A** et **a** :\n",
    "\n",
    "\n",
    "$$\n",
    "\\begin{aligned}\n",
    "f_{0} &= 1 - Pr(Aa) = 1 - 2p_{i}(1-p_{i}) = 1 - H_{S} \\\\\n",
    "\\bar{f} &= 1 - 2p(1 - p) = 1 - H_{T}\n",
    "\\end{aligned}\n",
    "$$\n",
    "\n",
    "Ce qui nous conduit à une définition équivalente du $F_{ST}$ :\n",
    "\n",
    "$$\\frac{H_{T} - H_{S}}{H_{T}}.$$\n",
    "\n",
    "Un autre manière de calculer le $F_{ST}$ très utilisée en pratique est :\n",
    "\n",
    "$$F_{ST} = \\frac{Var(\\bar{p})}{\\bar{p}(1 - \\bar{p})}.$$\n",
    "\n",
    "Dans une population *panmictique* le $F_{ST}$ devrait être égale à zéro (ou proche de zéro en pratique). Cela peut s'expliquer par le fait que la probabilité d'être **IBS** si on prend un sous-ensemble la population (ou un échantillon représentatif) doit être très proche de la probabilité d'être **IBS** dans l'ensemble de toute la population.\n",
    "\n",
    "Nous allons simuler des données sous un modèle de population panmictique et nous allons calculer le $F_{ST}$. Nous allons faire de même pour un modèle de population structurée (le n-islands model).\n",
    "\n",
    "Calcul du $F_{ST}$\n",
    "-----------------------\n",
    "\n",
    "Compléter la fonction ci-dessous, qui permet de calculer la probabilité que pour un locus donné, deux haplotypes tirés au hasard dans une population soient identiques.\n"
   ]
  },
  {
   "cell_type": "code",
   "execution_count": null,
   "metadata": {},
   "outputs": [],
   "source": [
    "pIBS.haps <- function(snpData){\n",
    "    # snpData : tableau de données donnant les allèles de n individus haploïdes (lignes)\n",
    "    # pour p positions polymorphes (colonnes)\n",
    "    # samplesIDs : un vecteur avec les indices des séquences à considérer\n",
    "    n <- dim(snpData)[1]\n",
    "    p <- dim(snpData)[2]\n",
    "    hapData <- apply(snpData, 1, paste, collapse=\"\")\n",
    "    # pour chaque individu, crée une chaîne de caractère donnant son haplotype\n",
    "    # ...\n",
    "    # pour chaque haplotype, calcule le nombre d'individus portant cet haplotype\n",
    "    # pIBS <- ...\n",
    "    return(pIBS)\n",
    "}"
   ]
  },
  {
   "cell_type": "markdown",
   "metadata": {},
   "source": [
    "Tester cette commande (en affichant éventuellement les résultats de calculs intermédiaires) pour les données d’un locus sans recombinaison simulé avec coala (répétez la simulation jusqu'à avoir au moin deux SNP) :"
   ]
  },
  {
   "cell_type": "code",
   "execution_count": null,
   "metadata": {},
   "outputs": [],
   "source": [
    "model=coal_model(sample_size=4,loci_number=1, loci_length=10000,ploidy=1) +\n",
    "feat_mutation(rate=2) + sumstat_seg_sites()\n",
    "simResults = simulate(model)\n",
    "simResults$seg_sites[[1]]"
   ]
  },
  {
   "cell_type": "code",
   "execution_count": null,
   "metadata": {},
   "outputs": [],
   "source": [
    "pIBS.haps(simResults$seg_sites[[1]]$snps)"
   ]
  },
  {
   "cell_type": "markdown",
   "metadata": {},
   "source": [
    "À l'aide de cette fonction, compléter la fonction suivante qui permet de calculer, à partir de l'attribut *seg_sites* d'un jeu de données simulé par coala, la probabilité **IBS** sur l'ensembe des locus, pour un sous ensemble d'individus donné :"
   ]
  },
  {
   "cell_type": "code",
   "execution_count": null,
   "metadata": {},
   "outputs": [],
   "source": [
    "pIBS.haps.coala <- function(segsites, samplesIDs){\n",
    "    # segsites : liste de tableaux, telle que renvoyée par l'attribut seg_sites\n",
    "    # d'un résultat coala\n",
    "    # samplesIDs : un vecteur avec les indices des individus à considérer\n",
    "    nbSequences <- length(samplesIDs)\n",
    "    nbSites <- length(segsites)\n",
    "    for(i in 1:nbSites){\n",
    "        # ....\n",
    "    }\n",
    "    return(mean(ibs_locus))\n",
    "}"
   ]
  },
  {
   "cell_type": "markdown",
   "metadata": {},
   "source": [
    "Tester cette commande pour la simulation coala suivante :"
   ]
  },
  {
   "cell_type": "code",
   "execution_count": null,
   "metadata": {},
   "outputs": [],
   "source": [
    "model <- coal_model(sample_size=10,loci_number=100, loci_length=10000,ploidy=1) + \n",
    "                    feat_mutation(rate=2) + sumstat_seg_sites()\n",
    "simResults <- simulate(model)\n",
    "pIBS.haps.coala(simResults$seg_sites,1:5)"
   ]
  },
  {
   "cell_type": "code",
   "execution_count": null,
   "metadata": {},
   "outputs": [],
   "source": [
    "pIBS.haps.coala(simResults$seg_sites,6:10)"
   ]
  },
  {
   "cell_type": "markdown",
   "metadata": {},
   "source": [
    "Pour finir, compléter la fonction ci-dessous qui calcule le $F_{ST}$ à partir de l’attribut seg_sites d’un jeu de données coala :"
   ]
  },
  {
   "cell_type": "code",
   "execution_count": null,
   "metadata": {},
   "outputs": [],
   "source": [
    "computeFst <- function(segsites, popList){\n",
    "    # segsites : liste de tableaux, telle que renvoyée par l'attribut seg_sites\n",
    "    # d'un résultat coala\n",
    "    # popList : liste de vecteurs donnant les indices des individus correspondant\n",
    "    # à chaque sous-population\n",
    "    n <- dim(segsites[[1]])[1]\n",
    "    # probabilité IBS pour deux individus au hasard\n",
    "    # ...\n",
    "    # probabilité IBS pour deux individus au hasard dans la même sous-population\n",
    "    # ...\n",
    "    for(i in 1:length(popList)){\n",
    "        # ...\n",
    "    }\n",
    "    # calcul du Fst\n",
    "    # ...\n",
    "    return(Fst)\n",
    "}"
   ]
  },
  {
   "cell_type": "markdown",
   "metadata": {},
   "source": [
    "Tester cette fonction à l'aide de la simulation précédente, comme si les 5 premiers individus venaient d'une sous-population et les 5 derniers d'une autre."
   ]
  },
  {
   "cell_type": "code",
   "execution_count": null,
   "metadata": {},
   "outputs": [],
   "source": [
    "computeFst(simResults$seg_sites, list(1:3, 4:6, 7:10))"
   ]
  },
  {
   "cell_type": "code",
   "execution_count": null,
   "metadata": {},
   "outputs": [],
   "source": [
    "# Le Fst dans un modèle panmictique devrait être égale à zéro.\n",
    "\n",
    "# Modèle panmictique (pas de difference entre $f_0_$ et $\\bar{f})\n",
    "model <- coal_model(sample_size=100,loci_number=loc, loci_length=L,ploidy=1) + \n",
    "  feat_mutation(rate=theta*L) + sumstat_seg_sites()\n",
    "\n",
    "res <- simulate(model)\n",
    "samplesInPopList <- list(1:20, 21:40, 41:60, 61:80, 81:100)\n",
    "Fst <- computeFst(res$seg_sites, samplesInPopList)\n",
    "print(paste(\"Le Fst vaut :\", Fst))"
   ]
  },
  {
   "cell_type": "code",
   "execution_count": null,
   "metadata": {},
   "outputs": [],
   "source": [
    "# Modèle de population structurée. n-islands avec n=5 et M=1\n",
    "structModel <- coal_model(sample_size=c(20, 20, 20, 20, 20), loci_number=loc, loci_length=L,ploidy=1) + \n",
    "  feat_migration(1, symmetric = TRUE) + feat_mutation(rate=theta*L) + sumstat_seg_sites()\n",
    "\n",
    "structRes <- simulate(structModel)\n",
    "samplesInPopList <- list(1:20, 21:40, 41:60, 61:80, 81:100)\n",
    "Fst <- computeFst(structRes$seg_sites, samplesInPopList)\n",
    "print(paste(\"Le Fst vaut :\", Fst))"
   ]
  },
  {
   "cell_type": "markdown",
   "metadata": {},
   "source": [
    "# Estimation du flux de gènes dans un modèle en îles symmétrique\n",
    "\n",
    "\n",
    "Il est possible d'estimer le taux de migration ($M = 4Nm$) à partir de la valeur du $F_{ST}$ en se basant sur la formule suivante :\n",
    "\n",
    "$$F_{ST}\\approx \\frac{1}{1 + M\\frac{d^{2}}{(d-1)^{2}}}$$\n",
    "\n",
    "avec $d$ le nombre d'îles. Nous allons estimer la valeur du $M$ pour un modèle de population structurée."
   ]
  },
  {
   "cell_type": "code",
   "execution_count": null,
   "metadata": {},
   "outputs": [],
   "source": [
    "# Fonction pour estimer le flux de gènes\n",
    "estimate_Fst_M <- function(simResults, samplesInPopList){\n",
    "  # Fst <- \n",
    "  # M <- \n",
    "  return(c(Fst, M))\n",
    "}"
   ]
  },
  {
   "cell_type": "code",
   "execution_count": null,
   "metadata": {},
   "outputs": [],
   "source": [
    "# Modèle de population structurée. n-islands avec n=2 et M=1\n",
    "structModel_n2 <- coal_model(sample_size=c(20, 20), loci_number=loc, loci_length=L,ploidy=2) + \n",
    "  feat_migration(1, symmetric = TRUE) + feat_mutation(rate=theta*L) + sumstat_seg_sites()\n",
    "\n",
    "structRes <- simulate(structModel_n2)\n",
    "samplesInPopList <- list(1:20, 21:40)\n",
    "estimation <- estimate_Fst_M(structRes, samplesInPopList)\n",
    "Fst <- estimation[1]\n",
    "M <- estimation[2]\n",
    "print(paste(\"Le Fst vaut :\", Fst))\n",
    "print(paste(\"Le flux de gènes estimé est :\", M))"
   ]
  },
  {
   "cell_type": "code",
   "execution_count": null,
   "metadata": {},
   "outputs": [],
   "source": [
    "# Modèle de population structurée. n-islands avec n=5 et M=1\n",
    "structModel_n5 <- coal_model(sample_size=c(20, 20, 20, 20, 20), loci_number=loc, loci_length=L,ploidy=2) + \n",
    "  feat_migration(1, symmetric = TRUE) + feat_mutation(rate=theta*L) + sumstat_seg_sites()\n",
    "\n",
    "structRes <- simulate(structModel_n5)\n",
    "samplesInPopList <- list(1:20, 21:40, 41:60, 61:80, 81:100)\n",
    "estimation <- estimate_Fst_M(structRes, samplesInPopList)\n",
    "Fst <- estimation[1]\n",
    "M <- estimation[2]\n",
    "print(paste(\"Le Fst vaut :\", Fst))\n",
    "print(paste(\"Le flux de gènes estimé est :\", M))"
   ]
  },
  {
   "cell_type": "code",
   "execution_count": null,
   "metadata": {},
   "outputs": [],
   "source": [
    "# Modèle de population structurée. n-islands avec n=10 et M=1\n",
    "structModel_n10 <- coal_model(sample_size=c(20, 20, 20, 20, 20, 20, 20, 20, 20, 20), loci_number=loc, \n",
    "                              loci_length=L,ploidy=2) + feat_migration(1, symmetric = TRUE) + \n",
    "                              feat_mutation(rate=theta*L) + sumstat_seg_sites()\n",
    "structRes <- simulate(structModel_n10)\n",
    "samplesInPopList <- list(1:20, 21:40, 41:60, 61:80, 81:100, 101:120, 121:140, 141:160, 161:180, 181:200)\n",
    "estimation <- estimate_Fst_M(structRes, samplesInPopList)\n",
    "Fst <- estimation[1]\n",
    "M <- estimation[2]\n",
    "print(paste(\"Le Fst vaut :\", Fst))\n",
    "print(paste(\"Le flux de gènes estimé est :\", M))"
   ]
  },
  {
   "cell_type": "code",
   "execution_count": null,
   "metadata": {},
   "outputs": [],
   "source": []
  }
 ],
 "metadata": {
  "kernelspec": {
   "display_name": "R",
   "language": "R",
   "name": "ir"
  },
  "language_info": {
   "codemirror_mode": "r",
   "file_extension": ".r",
   "mimetype": "text/x-r-source",
   "name": "R",
   "pygments_lexer": "r",
   "version": "3.4.3"
  }
 },
 "nbformat": 4,
 "nbformat_minor": 2
}
