{
 "cells": [
  {
   "cell_type": "markdown",
   "metadata": {},
   "source": [
    "# Le format ped\n",
    "\n",
    "Nous allons explorer un dataset sous format ped (voir la description du format ped [ici](http://www.shapeit.fr/pages/m02_formats/pedmap.html)). \n",
    "\n",
    "Le fichier de données peut être téléchargé [ici](https://housecloud.willyrv.com/index.php/s/kN56oKNgkbmPxUf)"
   ]
  },
  {
   "cell_type": "code",
   "execution_count": 1,
   "metadata": {
    "collapsed": true
   },
   "outputs": [],
   "source": [
    "# Lire les données en format ped \n",
    "crossData <- read.table(\"./NEU_short.ped\")"
   ]
  },
  {
   "cell_type": "code",
   "execution_count": 2,
   "metadata": {
    "collapsed": false
   },
   "outputs": [
    {
     "data": {
      "text/html": [
       "<table>\n",
       "<thead><tr><th scope=col>V1</th><th scope=col>V2</th><th scope=col>V3</th><th scope=col>V4</th><th scope=col>V5</th><th scope=col>V6</th><th scope=col>V7</th><th scope=col>V8</th><th scope=col>V9</th><th scope=col>V10</th><th scope=col>V11</th><th scope=col>V12</th><th scope=col>V13</th><th scope=col>V14</th><th scope=col>V15</th><th scope=col>V16</th><th scope=col>V17</th><th scope=col>V18</th><th scope=col>V19</th><th scope=col>V20</th></tr></thead>\n",
       "<tbody>\n",
       "\t<tr><td>Galway</td><td>GAL9  </td><td>0     </td><td>0     </td><td>0     </td><td>-9    </td><td>G     </td><td>G     </td><td>A     </td><td>A     </td><td>G     </td><td>A     </td><td>G     </td><td>G     </td><td>G     </td><td>G     </td><td>G     </td><td>A     </td><td>A     </td><td>A     </td></tr>\n",
       "\t<tr><td>Galway</td><td>GAL48 </td><td>0     </td><td>0     </td><td>0     </td><td>-9    </td><td>A     </td><td>G     </td><td>G     </td><td>G     </td><td>G     </td><td>A     </td><td>G     </td><td>G     </td><td>G     </td><td>G     </td><td>A     </td><td>A     </td><td>A     </td><td>A     </td></tr>\n",
       "\t<tr><td>Galway</td><td>GAL49 </td><td>0     </td><td>0     </td><td>0     </td><td>-9    </td><td>A     </td><td>A     </td><td>G     </td><td>A     </td><td>G     </td><td>A     </td><td>G     </td><td>G     </td><td>G     </td><td>A     </td><td>G     </td><td>G     </td><td>A     </td><td>A     </td></tr>\n",
       "\t<tr><td>Galway</td><td>GAL50 </td><td>0     </td><td>0     </td><td>0     </td><td>-9    </td><td>G     </td><td>G     </td><td>A     </td><td>A     </td><td>A     </td><td>A     </td><td>G     </td><td>G     </td><td>G     </td><td>G     </td><td>G     </td><td>G     </td><td>A     </td><td>A     </td></tr>\n",
       "\t<tr><td>Galway</td><td>GAL44 </td><td>0     </td><td>0     </td><td>0     </td><td>-9    </td><td>A     </td><td>G     </td><td>A     </td><td>A     </td><td>A     </td><td>A     </td><td>G     </td><td>G     </td><td>G     </td><td>A     </td><td>G     </td><td>A     </td><td>A     </td><td>A     </td></tr>\n",
       "\t<tr><td>Galway</td><td>GAL17 </td><td>0     </td><td>0     </td><td>0     </td><td>-9    </td><td>A     </td><td>G     </td><td>G     </td><td>A     </td><td>A     </td><td>A     </td><td>G     </td><td>G     </td><td>G     </td><td>G     </td><td>G     </td><td>A     </td><td>A     </td><td>A     </td></tr>\n",
       "\t<tr><td>Galway</td><td>GAL25 </td><td>0     </td><td>0     </td><td>0     </td><td>-9    </td><td>G     </td><td>G     </td><td>G     </td><td>G     </td><td>G     </td><td>A     </td><td>G     </td><td>G     </td><td>G     </td><td>G     </td><td>A     </td><td>A     </td><td>A     </td><td>A     </td></tr>\n",
       "\t<tr><td>Galway</td><td>GAL32 </td><td>0     </td><td>0     </td><td>0     </td><td>-9    </td><td>A     </td><td>G     </td><td>G     </td><td>A     </td><td>A     </td><td>A     </td><td>A     </td><td>G     </td><td>G     </td><td>A     </td><td>G     </td><td>G     </td><td>A     </td><td>A     </td></tr>\n",
       "\t<tr><td>Galway</td><td>GAL2  </td><td>0     </td><td>0     </td><td>0     </td><td>-9    </td><td>G     </td><td>G     </td><td>A     </td><td>A     </td><td>A     </td><td>A     </td><td>G     </td><td>G     </td><td>A     </td><td>A     </td><td>G     </td><td>G     </td><td>A     </td><td>A     </td></tr>\n",
       "\t<tr><td>Galway</td><td>GAL10 </td><td>0     </td><td>0     </td><td>0     </td><td>-9    </td><td>A     </td><td>G     </td><td>G     </td><td>A     </td><td>A     </td><td>A     </td><td>G     </td><td>G     </td><td>G     </td><td>G     </td><td>G     </td><td>A     </td><td>A     </td><td>A     </td></tr>\n",
       "\t<tr><td>Galway</td><td>GAL18 </td><td>0     </td><td>0     </td><td>0     </td><td>-9    </td><td>A     </td><td>G     </td><td>A     </td><td>A     </td><td>A     </td><td>A     </td><td>A     </td><td>G     </td><td>G     </td><td>A     </td><td>G     </td><td>G     </td><td>A     </td><td>A     </td></tr>\n",
       "\t<tr><td>Galway</td><td>GAL26 </td><td>0     </td><td>0     </td><td>0     </td><td>-9    </td><td>A     </td><td>G     </td><td>A     </td><td>A     </td><td>G     </td><td>A     </td><td>A     </td><td>G     </td><td>G     </td><td>A     </td><td>G     </td><td>G     </td><td>A     </td><td>A     </td></tr>\n",
       "\t<tr><td>Galway</td><td>GAL33 </td><td>0     </td><td>0     </td><td>0     </td><td>-9    </td><td>A     </td><td>G     </td><td>A     </td><td>A     </td><td>G     </td><td>A     </td><td>G     </td><td>G     </td><td>G     </td><td>A     </td><td>G     </td><td>A     </td><td>A     </td><td>A     </td></tr>\n",
       "\t<tr><td>Galway</td><td>GAL40 </td><td>0     </td><td>0     </td><td>0     </td><td>-9    </td><td>A     </td><td>G     </td><td>A     </td><td>A     </td><td>A     </td><td>A     </td><td>G     </td><td>G     </td><td>G     </td><td>A     </td><td>G     </td><td>A     </td><td>A     </td><td>A     </td></tr>\n",
       "\t<tr><td>Galway</td><td>GAL3  </td><td>0     </td><td>0     </td><td>0     </td><td>-9    </td><td>A     </td><td>G     </td><td>G     </td><td>A     </td><td>A     </td><td>A     </td><td>G     </td><td>G     </td><td>G     </td><td>G     </td><td>G     </td><td>A     </td><td>A     </td><td>A     </td></tr>\n",
       "\t<tr><td>Galway</td><td>GAL11 </td><td>0     </td><td>0     </td><td>0     </td><td>-9    </td><td>G     </td><td>G     </td><td>A     </td><td>A     </td><td>A     </td><td>A     </td><td>G     </td><td>G     </td><td>A     </td><td>A     </td><td>G     </td><td>A     </td><td>A     </td><td>A     </td></tr>\n",
       "\t<tr><td>Galway</td><td>GAL19 </td><td>0     </td><td>0     </td><td>0     </td><td>-9    </td><td>A     </td><td>G     </td><td>G     </td><td>G     </td><td>G     </td><td>A     </td><td>G     </td><td>G     </td><td>G     </td><td>A     </td><td>G     </td><td>G     </td><td>A     </td><td>A     </td></tr>\n",
       "\t<tr><td>Galway</td><td>GAL27 </td><td>0     </td><td>0     </td><td>0     </td><td>-9    </td><td>A     </td><td>G     </td><td>A     </td><td>A     </td><td>A     </td><td>A     </td><td>G     </td><td>G     </td><td>G     </td><td>A     </td><td>A     </td><td>A     </td><td>G     </td><td>A     </td></tr>\n",
       "\t<tr><td>Galway</td><td>GAL34 </td><td>0     </td><td>0     </td><td>0     </td><td>-9    </td><td>G     </td><td>G     </td><td>A     </td><td>A     </td><td>A     </td><td>A     </td><td>G     </td><td>G     </td><td>G     </td><td>G     </td><td>G     </td><td>G     </td><td>A     </td><td>A     </td></tr>\n",
       "\t<tr><td>Galway</td><td>GAL41 </td><td>0     </td><td>0     </td><td>0     </td><td>-9    </td><td>A     </td><td>G     </td><td>G     </td><td>A     </td><td>A     </td><td>A     </td><td>G     </td><td>G     </td><td>A     </td><td>A     </td><td>A     </td><td>A     </td><td>A     </td><td>A     </td></tr>\n",
       "</tbody>\n",
       "</table>\n"
      ],
      "text/latex": [
       "\\begin{tabular}{r|llllllllllllllllllll}\n",
       " V1 & V2 & V3 & V4 & V5 & V6 & V7 & V8 & V9 & V10 & V11 & V12 & V13 & V14 & V15 & V16 & V17 & V18 & V19 & V20\\\\\n",
       "\\hline\n",
       "\t Galway & GAL9   & 0      & 0      & 0      & -9     & G      & G      & A      & A      & G      & A      & G      & G      & G      & G      & G      & A      & A      & A     \\\\\n",
       "\t Galway & GAL48  & 0      & 0      & 0      & -9     & A      & G      & G      & G      & G      & A      & G      & G      & G      & G      & A      & A      & A      & A     \\\\\n",
       "\t Galway & GAL49  & 0      & 0      & 0      & -9     & A      & A      & G      & A      & G      & A      & G      & G      & G      & A      & G      & G      & A      & A     \\\\\n",
       "\t Galway & GAL50  & 0      & 0      & 0      & -9     & G      & G      & A      & A      & A      & A      & G      & G      & G      & G      & G      & G      & A      & A     \\\\\n",
       "\t Galway & GAL44  & 0      & 0      & 0      & -9     & A      & G      & A      & A      & A      & A      & G      & G      & G      & A      & G      & A      & A      & A     \\\\\n",
       "\t Galway & GAL17  & 0      & 0      & 0      & -9     & A      & G      & G      & A      & A      & A      & G      & G      & G      & G      & G      & A      & A      & A     \\\\\n",
       "\t Galway & GAL25  & 0      & 0      & 0      & -9     & G      & G      & G      & G      & G      & A      & G      & G      & G      & G      & A      & A      & A      & A     \\\\\n",
       "\t Galway & GAL32  & 0      & 0      & 0      & -9     & A      & G      & G      & A      & A      & A      & A      & G      & G      & A      & G      & G      & A      & A     \\\\\n",
       "\t Galway & GAL2   & 0      & 0      & 0      & -9     & G      & G      & A      & A      & A      & A      & G      & G      & A      & A      & G      & G      & A      & A     \\\\\n",
       "\t Galway & GAL10  & 0      & 0      & 0      & -9     & A      & G      & G      & A      & A      & A      & G      & G      & G      & G      & G      & A      & A      & A     \\\\\n",
       "\t Galway & GAL18  & 0      & 0      & 0      & -9     & A      & G      & A      & A      & A      & A      & A      & G      & G      & A      & G      & G      & A      & A     \\\\\n",
       "\t Galway & GAL26  & 0      & 0      & 0      & -9     & A      & G      & A      & A      & G      & A      & A      & G      & G      & A      & G      & G      & A      & A     \\\\\n",
       "\t Galway & GAL33  & 0      & 0      & 0      & -9     & A      & G      & A      & A      & G      & A      & G      & G      & G      & A      & G      & A      & A      & A     \\\\\n",
       "\t Galway & GAL40  & 0      & 0      & 0      & -9     & A      & G      & A      & A      & A      & A      & G      & G      & G      & A      & G      & A      & A      & A     \\\\\n",
       "\t Galway & GAL3   & 0      & 0      & 0      & -9     & A      & G      & G      & A      & A      & A      & G      & G      & G      & G      & G      & A      & A      & A     \\\\\n",
       "\t Galway & GAL11  & 0      & 0      & 0      & -9     & G      & G      & A      & A      & A      & A      & G      & G      & A      & A      & G      & A      & A      & A     \\\\\n",
       "\t Galway & GAL19  & 0      & 0      & 0      & -9     & A      & G      & G      & G      & G      & A      & G      & G      & G      & A      & G      & G      & A      & A     \\\\\n",
       "\t Galway & GAL27  & 0      & 0      & 0      & -9     & A      & G      & A      & A      & A      & A      & G      & G      & G      & A      & A      & A      & G      & A     \\\\\n",
       "\t Galway & GAL34  & 0      & 0      & 0      & -9     & G      & G      & A      & A      & A      & A      & G      & G      & G      & G      & G      & G      & A      & A     \\\\\n",
       "\t Galway & GAL41  & 0      & 0      & 0      & -9     & A      & G      & G      & A      & A      & A      & G      & G      & A      & A      & A      & A      & A      & A     \\\\\n",
       "\\end{tabular}\n"
      ],
      "text/markdown": [
       "\n",
       "V1 | V2 | V3 | V4 | V5 | V6 | V7 | V8 | V9 | V10 | V11 | V12 | V13 | V14 | V15 | V16 | V17 | V18 | V19 | V20 | \n",
       "|---|---|---|---|---|---|---|---|---|---|---|---|---|---|---|---|---|---|---|---|\n",
       "| Galway | GAL9   | 0      | 0      | 0      | -9     | G      | G      | A      | A      | G      | A      | G      | G      | G      | G      | G      | A      | A      | A      | \n",
       "| Galway | GAL48  | 0      | 0      | 0      | -9     | A      | G      | G      | G      | G      | A      | G      | G      | G      | G      | A      | A      | A      | A      | \n",
       "| Galway | GAL49  | 0      | 0      | 0      | -9     | A      | A      | G      | A      | G      | A      | G      | G      | G      | A      | G      | G      | A      | A      | \n",
       "| Galway | GAL50  | 0      | 0      | 0      | -9     | G      | G      | A      | A      | A      | A      | G      | G      | G      | G      | G      | G      | A      | A      | \n",
       "| Galway | GAL44  | 0      | 0      | 0      | -9     | A      | G      | A      | A      | A      | A      | G      | G      | G      | A      | G      | A      | A      | A      | \n",
       "| Galway | GAL17  | 0      | 0      | 0      | -9     | A      | G      | G      | A      | A      | A      | G      | G      | G      | G      | G      | A      | A      | A      | \n",
       "| Galway | GAL25  | 0      | 0      | 0      | -9     | G      | G      | G      | G      | G      | A      | G      | G      | G      | G      | A      | A      | A      | A      | \n",
       "| Galway | GAL32  | 0      | 0      | 0      | -9     | A      | G      | G      | A      | A      | A      | A      | G      | G      | A      | G      | G      | A      | A      | \n",
       "| Galway | GAL2   | 0      | 0      | 0      | -9     | G      | G      | A      | A      | A      | A      | G      | G      | A      | A      | G      | G      | A      | A      | \n",
       "| Galway | GAL10  | 0      | 0      | 0      | -9     | A      | G      | G      | A      | A      | A      | G      | G      | G      | G      | G      | A      | A      | A      | \n",
       "| Galway | GAL18  | 0      | 0      | 0      | -9     | A      | G      | A      | A      | A      | A      | A      | G      | G      | A      | G      | G      | A      | A      | \n",
       "| Galway | GAL26  | 0      | 0      | 0      | -9     | A      | G      | A      | A      | G      | A      | A      | G      | G      | A      | G      | G      | A      | A      | \n",
       "| Galway | GAL33  | 0      | 0      | 0      | -9     | A      | G      | A      | A      | G      | A      | G      | G      | G      | A      | G      | A      | A      | A      | \n",
       "| Galway | GAL40  | 0      | 0      | 0      | -9     | A      | G      | A      | A      | A      | A      | G      | G      | G      | A      | G      | A      | A      | A      | \n",
       "| Galway | GAL3   | 0      | 0      | 0      | -9     | A      | G      | G      | A      | A      | A      | G      | G      | G      | G      | G      | A      | A      | A      | \n",
       "| Galway | GAL11  | 0      | 0      | 0      | -9     | G      | G      | A      | A      | A      | A      | G      | G      | A      | A      | G      | A      | A      | A      | \n",
       "| Galway | GAL19  | 0      | 0      | 0      | -9     | A      | G      | G      | G      | G      | A      | G      | G      | G      | A      | G      | G      | A      | A      | \n",
       "| Galway | GAL27  | 0      | 0      | 0      | -9     | A      | G      | A      | A      | A      | A      | G      | G      | G      | A      | A      | A      | G      | A      | \n",
       "| Galway | GAL34  | 0      | 0      | 0      | -9     | G      | G      | A      | A      | A      | A      | G      | G      | G      | G      | G      | G      | A      | A      | \n",
       "| Galway | GAL41  | 0      | 0      | 0      | -9     | A      | G      | G      | A      | A      | A      | G      | G      | A      | A      | A      | A      | A      | A      | \n",
       "\n",
       "\n"
      ],
      "text/plain": [
       "   V1     V2    V3 V4 V5 V6 V7 V8 V9 V10 V11 V12 V13 V14 V15 V16 V17 V18 V19\n",
       "1  Galway GAL9  0  0  0  -9 G  G  A  A   G   A   G   G   G   G   G   A   A  \n",
       "2  Galway GAL48 0  0  0  -9 A  G  G  G   G   A   G   G   G   G   A   A   A  \n",
       "3  Galway GAL49 0  0  0  -9 A  A  G  A   G   A   G   G   G   A   G   G   A  \n",
       "4  Galway GAL50 0  0  0  -9 G  G  A  A   A   A   G   G   G   G   G   G   A  \n",
       "5  Galway GAL44 0  0  0  -9 A  G  A  A   A   A   G   G   G   A   G   A   A  \n",
       "6  Galway GAL17 0  0  0  -9 A  G  G  A   A   A   G   G   G   G   G   A   A  \n",
       "7  Galway GAL25 0  0  0  -9 G  G  G  G   G   A   G   G   G   G   A   A   A  \n",
       "8  Galway GAL32 0  0  0  -9 A  G  G  A   A   A   A   G   G   A   G   G   A  \n",
       "9  Galway GAL2  0  0  0  -9 G  G  A  A   A   A   G   G   A   A   G   G   A  \n",
       "10 Galway GAL10 0  0  0  -9 A  G  G  A   A   A   G   G   G   G   G   A   A  \n",
       "11 Galway GAL18 0  0  0  -9 A  G  A  A   A   A   A   G   G   A   G   G   A  \n",
       "12 Galway GAL26 0  0  0  -9 A  G  A  A   G   A   A   G   G   A   G   G   A  \n",
       "13 Galway GAL33 0  0  0  -9 A  G  A  A   G   A   G   G   G   A   G   A   A  \n",
       "14 Galway GAL40 0  0  0  -9 A  G  A  A   A   A   G   G   G   A   G   A   A  \n",
       "15 Galway GAL3  0  0  0  -9 A  G  G  A   A   A   G   G   G   G   G   A   A  \n",
       "16 Galway GAL11 0  0  0  -9 G  G  A  A   A   A   G   G   A   A   G   A   A  \n",
       "17 Galway GAL19 0  0  0  -9 A  G  G  G   G   A   G   G   G   A   G   G   A  \n",
       "18 Galway GAL27 0  0  0  -9 A  G  A  A   A   A   G   G   G   A   A   A   G  \n",
       "19 Galway GAL34 0  0  0  -9 G  G  A  A   A   A   G   G   G   G   G   G   A  \n",
       "20 Galway GAL41 0  0  0  -9 A  G  G  A   A   A   G   G   A   A   A   A   A  \n",
       "   V20\n",
       "1  A  \n",
       "2  A  \n",
       "3  A  \n",
       "4  A  \n",
       "5  A  \n",
       "6  A  \n",
       "7  A  \n",
       "8  A  \n",
       "9  A  \n",
       "10 A  \n",
       "11 A  \n",
       "12 A  \n",
       "13 A  \n",
       "14 A  \n",
       "15 A  \n",
       "16 A  \n",
       "17 A  \n",
       "18 A  \n",
       "19 A  \n",
       "20 A  "
      ]
     },
     "metadata": {},
     "output_type": "display_data"
    }
   ],
   "source": [
    "crossData[1:20, 1:20]"
   ]
  },
  {
   "cell_type": "code",
   "execution_count": 3,
   "metadata": {
    "collapsed": false
   },
   "outputs": [
    {
     "data": {
      "text/plain": [
       "\n",
       "          Galway      GermanTexel     IrishSuffolk NewZealandRomney \n",
       "              49               43               55               21 \n",
       " NewZealandTexel    ScottishTexel             Soay \n",
       "              21               80              110 "
      ]
     },
     "metadata": {},
     "output_type": "display_data"
    }
   ],
   "source": [
    "# Nombre de population différentes\n",
    "table(crossData[, 1])"
   ]
  },
  {
   "cell_type": "markdown",
   "metadata": {},
   "source": [
    "Selectioner un sous tableau du fichier\n",
    "---------------------------------------------"
   ]
  },
  {
   "cell_type": "code",
   "execution_count": 4,
   "metadata": {
    "collapsed": false
   },
   "outputs": [
    {
     "data": {
      "text/html": [
       "<table>\n",
       "<thead><tr><th scope=col>V1</th><th scope=col>V2</th><th scope=col>V3</th><th scope=col>V4</th><th scope=col>V5</th></tr></thead>\n",
       "<tbody>\n",
       "\t<tr><td>Galway</td><td>GAL9  </td><td>0     </td><td>0     </td><td>0     </td></tr>\n",
       "\t<tr><td>Galway</td><td>GAL48 </td><td>0     </td><td>0     </td><td>0     </td></tr>\n",
       "\t<tr><td>Galway</td><td>GAL49 </td><td>0     </td><td>0     </td><td>0     </td></tr>\n",
       "\t<tr><td>Galway</td><td>GAL50 </td><td>0     </td><td>0     </td><td>0     </td></tr>\n",
       "\t<tr><td>Galway</td><td>GAL44 </td><td>0     </td><td>0     </td><td>0     </td></tr>\n",
       "\t<tr><td>Galway</td><td>GAL17 </td><td>0     </td><td>0     </td><td>0     </td></tr>\n",
       "\t<tr><td>Galway</td><td>GAL25 </td><td>0     </td><td>0     </td><td>0     </td></tr>\n",
       "\t<tr><td>Galway</td><td>GAL32 </td><td>0     </td><td>0     </td><td>0     </td></tr>\n",
       "\t<tr><td>Galway</td><td>GAL2  </td><td>0     </td><td>0     </td><td>0     </td></tr>\n",
       "\t<tr><td>Galway</td><td>GAL10 </td><td>0     </td><td>0     </td><td>0     </td></tr>\n",
       "</tbody>\n",
       "</table>\n"
      ],
      "text/latex": [
       "\\begin{tabular}{r|lllll}\n",
       " V1 & V2 & V3 & V4 & V5\\\\\n",
       "\\hline\n",
       "\t Galway & GAL9   & 0      & 0      & 0     \\\\\n",
       "\t Galway & GAL48  & 0      & 0      & 0     \\\\\n",
       "\t Galway & GAL49  & 0      & 0      & 0     \\\\\n",
       "\t Galway & GAL50  & 0      & 0      & 0     \\\\\n",
       "\t Galway & GAL44  & 0      & 0      & 0     \\\\\n",
       "\t Galway & GAL17  & 0      & 0      & 0     \\\\\n",
       "\t Galway & GAL25  & 0      & 0      & 0     \\\\\n",
       "\t Galway & GAL32  & 0      & 0      & 0     \\\\\n",
       "\t Galway & GAL2   & 0      & 0      & 0     \\\\\n",
       "\t Galway & GAL10  & 0      & 0      & 0     \\\\\n",
       "\\end{tabular}\n"
      ],
      "text/markdown": [
       "\n",
       "V1 | V2 | V3 | V4 | V5 | \n",
       "|---|---|---|---|---|---|---|---|---|---|\n",
       "| Galway | GAL9   | 0      | 0      | 0      | \n",
       "| Galway | GAL48  | 0      | 0      | 0      | \n",
       "| Galway | GAL49  | 0      | 0      | 0      | \n",
       "| Galway | GAL50  | 0      | 0      | 0      | \n",
       "| Galway | GAL44  | 0      | 0      | 0      | \n",
       "| Galway | GAL17  | 0      | 0      | 0      | \n",
       "| Galway | GAL25  | 0      | 0      | 0      | \n",
       "| Galway | GAL32  | 0      | 0      | 0      | \n",
       "| Galway | GAL2   | 0      | 0      | 0      | \n",
       "| Galway | GAL10  | 0      | 0      | 0      | \n",
       "\n",
       "\n"
      ],
      "text/plain": [
       "   V1     V2    V3 V4 V5\n",
       "1  Galway GAL9  0  0  0 \n",
       "2  Galway GAL48 0  0  0 \n",
       "3  Galway GAL49 0  0  0 \n",
       "4  Galway GAL50 0  0  0 \n",
       "5  Galway GAL44 0  0  0 \n",
       "6  Galway GAL17 0  0  0 \n",
       "7  Galway GAL25 0  0  0 \n",
       "8  Galway GAL32 0  0  0 \n",
       "9  Galway GAL2  0  0  0 \n",
       "10 Galway GAL10 0  0  0 "
      ]
     },
     "metadata": {},
     "output_type": "display_data"
    }
   ],
   "source": [
    "sousPop <- crossData[1:10, ]\n",
    "sousPop[, 1:5]"
   ]
  },
  {
   "cell_type": "markdown",
   "metadata": {},
   "source": [
    "Selectioner des individus dans une race\n",
    "----------------------------------------------"
   ]
  },
  {
   "cell_type": "code",
   "execution_count": 5,
   "metadata": {
    "collapsed": false
   },
   "outputs": [
    {
     "name": "stdout",
     "output_type": "stream",
     "text": [
      "[1] Galway           GermanTexel      IrishSuffolk     NewZealandRomney\n",
      "[5] NewZealandTexel  ScottishTexel    Soay            \n",
      "7 Levels: Galway GermanTexel IrishSuffolk NewZealandRomney ... Soay\n"
     ]
    },
    {
     "data": {
      "text/html": [
       "<table>\n",
       "<thead><tr><th scope=col>V1</th><th scope=col>V2</th><th scope=col>V3</th><th scope=col>V4</th><th scope=col>V5</th><th scope=col>V6</th><th scope=col>V7</th><th scope=col>V8</th><th scope=col>V9</th><th scope=col>V10</th></tr></thead>\n",
       "<tbody>\n",
       "\t<tr><td>Galway</td><td>GAL9  </td><td>0     </td><td>0     </td><td>0     </td><td>-9    </td><td>G     </td><td>G     </td><td>A     </td><td>A     </td></tr>\n",
       "\t<tr><td>Galway</td><td>GAL48 </td><td>0     </td><td>0     </td><td>0     </td><td>-9    </td><td>A     </td><td>G     </td><td>G     </td><td>G     </td></tr>\n",
       "\t<tr><td>Galway</td><td>GAL49 </td><td>0     </td><td>0     </td><td>0     </td><td>-9    </td><td>A     </td><td>A     </td><td>G     </td><td>A     </td></tr>\n",
       "\t<tr><td>Galway</td><td>GAL50 </td><td>0     </td><td>0     </td><td>0     </td><td>-9    </td><td>G     </td><td>G     </td><td>A     </td><td>A     </td></tr>\n",
       "\t<tr><td>Galway</td><td>GAL44 </td><td>0     </td><td>0     </td><td>0     </td><td>-9    </td><td>A     </td><td>G     </td><td>A     </td><td>A     </td></tr>\n",
       "\t<tr><td>Galway</td><td>GAL17 </td><td>0     </td><td>0     </td><td>0     </td><td>-9    </td><td>A     </td><td>G     </td><td>G     </td><td>A     </td></tr>\n",
       "\t<tr><td>Galway</td><td>GAL25 </td><td>0     </td><td>0     </td><td>0     </td><td>-9    </td><td>G     </td><td>G     </td><td>G     </td><td>G     </td></tr>\n",
       "\t<tr><td>Galway</td><td>GAL32 </td><td>0     </td><td>0     </td><td>0     </td><td>-9    </td><td>A     </td><td>G     </td><td>G     </td><td>A     </td></tr>\n",
       "\t<tr><td>Galway</td><td>GAL2  </td><td>0     </td><td>0     </td><td>0     </td><td>-9    </td><td>G     </td><td>G     </td><td>A     </td><td>A     </td></tr>\n",
       "\t<tr><td>Galway</td><td>GAL10 </td><td>0     </td><td>0     </td><td>0     </td><td>-9    </td><td>A     </td><td>G     </td><td>G     </td><td>A     </td></tr>\n",
       "</tbody>\n",
       "</table>\n"
      ],
      "text/latex": [
       "\\begin{tabular}{r|llllllllll}\n",
       " V1 & V2 & V3 & V4 & V5 & V6 & V7 & V8 & V9 & V10\\\\\n",
       "\\hline\n",
       "\t Galway & GAL9   & 0      & 0      & 0      & -9     & G      & G      & A      & A     \\\\\n",
       "\t Galway & GAL48  & 0      & 0      & 0      & -9     & A      & G      & G      & G     \\\\\n",
       "\t Galway & GAL49  & 0      & 0      & 0      & -9     & A      & A      & G      & A     \\\\\n",
       "\t Galway & GAL50  & 0      & 0      & 0      & -9     & G      & G      & A      & A     \\\\\n",
       "\t Galway & GAL44  & 0      & 0      & 0      & -9     & A      & G      & A      & A     \\\\\n",
       "\t Galway & GAL17  & 0      & 0      & 0      & -9     & A      & G      & G      & A     \\\\\n",
       "\t Galway & GAL25  & 0      & 0      & 0      & -9     & G      & G      & G      & G     \\\\\n",
       "\t Galway & GAL32  & 0      & 0      & 0      & -9     & A      & G      & G      & A     \\\\\n",
       "\t Galway & GAL2   & 0      & 0      & 0      & -9     & G      & G      & A      & A     \\\\\n",
       "\t Galway & GAL10  & 0      & 0      & 0      & -9     & A      & G      & G      & A     \\\\\n",
       "\\end{tabular}\n"
      ],
      "text/markdown": [
       "\n",
       "V1 | V2 | V3 | V4 | V5 | V6 | V7 | V8 | V9 | V10 | \n",
       "|---|---|---|---|---|---|---|---|---|---|\n",
       "| Galway | GAL9   | 0      | 0      | 0      | -9     | G      | G      | A      | A      | \n",
       "| Galway | GAL48  | 0      | 0      | 0      | -9     | A      | G      | G      | G      | \n",
       "| Galway | GAL49  | 0      | 0      | 0      | -9     | A      | A      | G      | A      | \n",
       "| Galway | GAL50  | 0      | 0      | 0      | -9     | G      | G      | A      | A      | \n",
       "| Galway | GAL44  | 0      | 0      | 0      | -9     | A      | G      | A      | A      | \n",
       "| Galway | GAL17  | 0      | 0      | 0      | -9     | A      | G      | G      | A      | \n",
       "| Galway | GAL25  | 0      | 0      | 0      | -9     | G      | G      | G      | G      | \n",
       "| Galway | GAL32  | 0      | 0      | 0      | -9     | A      | G      | G      | A      | \n",
       "| Galway | GAL2   | 0      | 0      | 0      | -9     | G      | G      | A      | A      | \n",
       "| Galway | GAL10  | 0      | 0      | 0      | -9     | A      | G      | G      | A      | \n",
       "\n",
       "\n"
      ],
      "text/plain": [
       "   V1     V2    V3 V4 V5 V6 V7 V8 V9 V10\n",
       "1  Galway GAL9  0  0  0  -9 G  G  A  A  \n",
       "2  Galway GAL48 0  0  0  -9 A  G  G  G  \n",
       "3  Galway GAL49 0  0  0  -9 A  A  G  A  \n",
       "4  Galway GAL50 0  0  0  -9 G  G  A  A  \n",
       "5  Galway GAL44 0  0  0  -9 A  G  A  A  \n",
       "6  Galway GAL17 0  0  0  -9 A  G  G  A  \n",
       "7  Galway GAL25 0  0  0  -9 G  G  G  G  \n",
       "8  Galway GAL32 0  0  0  -9 A  G  G  A  \n",
       "9  Galway GAL2  0  0  0  -9 G  G  A  A  \n",
       "10 Galway GAL10 0  0  0  -9 A  G  G  A  "
      ]
     },
     "metadata": {},
     "output_type": "display_data"
    }
   ],
   "source": [
    "races <- unique(crossData[, 1])\n",
    "print(races)\n",
    "\n",
    "# Selectioner 10 indiv de la race 1\n",
    "indivRace1 <- crossData[crossData[, 1]==races[1], ][1:10, ]\n",
    "\n",
    "indivRace1[, 1:10]"
   ]
  },
  {
   "cell_type": "markdown",
   "metadata": {},
   "source": [
    "À faire\n",
    "---------\n",
    "\n",
    "Calculer le la $Prob(IBS)$ à l'intérieur de chaque race et la $Prob(IBS)$ dans l'ensemble de la population. Calculer le $F_{ST}$"
   ]
  },
  {
   "cell_type": "code",
   "execution_count": 6,
   "metadata": {
    "collapsed": true
   },
   "outputs": [],
   "source": [
    "# Quelques fonctions utiles\n",
    "\n",
    "getGenotypesLine <- function(pedSnpsLine){\n",
    "  return(unlist(lapply(seq(1, length(pedSnpsLine), 2), \n",
    "                       FUN = function(i) return(paste(pedSnpsLine[i], pedSnpsLine[i+1], sep = \"\")))))\n",
    "}\n",
    "\n",
    "getGenotypes <- function(pedTable){\n",
    "  return(t(apply(pedTable[, -c(1:6)], MARGIN = 1, getGenotypesLine)))\n",
    "}\n",
    "\n"
   ]
  },
  {
   "cell_type": "code",
   "execution_count": null,
   "metadata": {
    "collapsed": true
   },
   "outputs": [],
   "source": [
    "\n",
    "# Calculer le Fst pour le jeux de données\n",
    "\n",
    "# Faire une fonction pour calculer la proportion d'IBS\n",
    "\n",
    "\n",
    "propIBS <- function(pedTable){\n",
    "  \n",
    "}\n",
    "\n"
   ]
  }
 ],
 "metadata": {
  "kernelspec": {
   "display_name": "R",
   "language": "R",
   "name": "ir"
  },
  "language_info": {
   "codemirror_mode": "r",
   "file_extension": ".r",
   "mimetype": "text/x-r-source",
   "name": "R",
   "pygments_lexer": "r",
   "version": "3.3.3"
  }
 },
 "nbformat": 4,
 "nbformat_minor": 2
}
