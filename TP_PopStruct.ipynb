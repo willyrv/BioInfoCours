{
 "cells": [
  {
   "cell_type": "code",
   "execution_count": 2,
   "metadata": {},
   "outputs": [
    {
     "name": "stderr",
     "output_type": "stream",
     "text": [
      "Loading required package: ape\n"
     ]
    }
   ],
   "source": [
    "library(phyclust)\n",
    "library(coala)\n",
    "\n",
    "activate_ms(priority = 500)\n",
    "n=100 # taille de l'échantillon\n",
    "loc=10000 # nombre de locus\n",
    "L=1000 # taille de chaque locus \n",
    "\n",
    "N=10000 # taille de la population\n",
    "mu=2*10^(-8) # taux de mutation par base et par génération\n",
    "theta=2*N*mu"
   ]
  },
  {
   "cell_type": "markdown",
   "metadata": {},
   "source": [
    "# Les modèles de population structurée\n",
    "\n",
    "Regardons les arbres de coalescence sous deux modèles différents avec taille constante :\n",
    "\n",
    "1. Population panmictique\n",
    "2. Population structurée (exemple, le n-islands model)\n",
    "\n"
   ]
  },
  {
   "cell_type": "code",
   "execution_count": 35,
   "metadata": {},
   "outputs": [
    {
     "data": {
      "image/png": "[encoded data removed]",
      "text/plain": [
       "plot without title"
      ]
     },
     "metadata": {},
     "output_type": "display_data"
    }
   ],
   "source": [
    "# Modele panmictique\n",
    "model <- coal_model(sample_size=9,loci_number=loc, loci_length=L,ploidy=1) + \n",
    "          sumstat_trees()\n",
    "res <- simulate(model)\n",
    "tree=read.tree(text=res$trees[[1]])\n",
    "plot(tree,show.tip.label=TRUE,no.margin=FALSE,direction=\"downwards\")\n",
    "\n"
   ]
  },
  {
   "cell_type": "code",
   "execution_count": 36,
   "metadata": {},
   "outputs": [
    {
     "data": {
      "image/png": "[encoded data removed]",
      "text/plain": [
       "plot without title"
      ]
     },
     "metadata": {},
     "output_type": "display_data"
    }
   ],
   "source": [
    "model <- coal_model(sample_size=c(3, 3, 3),loci_number=loc, loci_length=L,ploidy=1) + \n",
    "  feat_migration(0.1, symmetric = TRUE) + sumstat_trees()\n",
    "res <- simulate(model)\n",
    "tree=read.tree(text=res$trees[[1]])\n",
    "plot(tree,show.tip.label=TRUE,no.margin=FALSE,direction=\"downwards\")"
   ]
  },
  {
   "cell_type": "markdown",
   "metadata": {},
   "source": [
    "** Qu'est-ce qu'on observe ? **"
   ]
  },
  {
   "cell_type": "markdown",
   "metadata": {},
   "source": [
    "# Déficit en hétérozygotes dû à la structuration en sous-populations\n",
    "\n",
    "On considère une population structurée en sous-populations. Ex 5 islands de taille $N$ ![n-islands model](./nislands.png)\n",
    "\n",
    "On considère un locus bi-allelique avec les allèles **a** et **A**. On appelle $p_{i}$ la fréquence de l'allèle **A** dans la sous-population $i$. La fréquence de l'allèle **a** dans la sous-population $i$ est donc $1-p_{i})$. On supose *random-mating* à l'intérieur de chaque sous-population. La fréquence d'hétérozygotes **Aa** à l'intérieur de la sous-population $i$ est égale à :\n",
    "\n",
    "$$2p_{i}(1-p_{i})$$\n",
    "\n",
    "La fréquence de l'alléle **A** dans la population globale est égale à :\n",
    "$$\\bar{p}=\\frac{1}{n}\\displaystyle\\sum_{i=1}^{n}p_{i}$$\n",
    "\n",
    "Sous l'hypothèse de *random-mating* la fréquence d'hétérozygotes devrait être égale à :\n",
    "$$H_{T}=2\\bar{p}(1-\\bar{p})$$\n",
    "\n",
    "Si on calcule la moyenne des fréquences d'hétérozygotes à l'intérieur de chaque île on obtient :\n",
    "\n",
    "$$H_{S} = \\frac{1}{n}\\displaystyle\\sum_{i=1}^{n}2p_{i}(1-p_{i}) = 2\\bar{p}(1 - \\bar{p}) - 2Var(p)$$\n",
    "\n",
    "On a donc \n",
    "$$H_{S} = H_{T} - 2Var(p)$$\n",
    "\n",
    "ce qui veut dire qu'on aura un déficit en hétérozygotes (moins de diversité) à l'intérieur des îles.\n",
    "\n",
    "Définition: IBS\n",
    "------------------\n",
    "\n",
    "On dira que deux gènes sont **IBS** (*Identic By State*) s'ils ont exactement égaux (ils ont le même alléle). Sous certaines hypothèses cela veut dire qu'il n y a pas eu de mutation dans les ligées des deux gènes entre le présent et l'ancêtre comun le plus récent. \n",
    "\n",
    "Définition: le $F_{ST}$\n",
    "---------------------------\n",
    "\n",
    "Le $F_{ST}$ est défini (voir Herbots 1994) en fonction la probabilité de deux gènes d'être \"identique\" (*IBS*, *Identical By State*) :\n",
    "\n",
    "$$F_{ST} = \\frac{f_0 - \\bar{f}}{1 - \\bar{f}}$$\n",
    "\n",
    "avec $f_0$ la probabilité que deux gènes dans la même sous-population soient identiques et $\\bar{f}$ la probabilité que deux gènes choisis au hassard dans l'ensemble de la population soient identiques\n",
    "\n",
    "Dans une population *panmictique* le $F_{ST}$ devrait être égale à zéro (ou proche de zéro en pratique). Cela peut s'expliquer par le fait que la probabilité d'être **IBS** à si on prend un sous-ensemble de l'échantillon doit être très proche de la probabilité d'être **IBS** dans l'ensemble de toute la population.\n",
    "\n",
    "Nous allons simuler des données sous un modèle de population panmictique et nous allons calculer le $F_{ST}$. Nous allons faire de même pour un modèle de population structurée (le n-islands model).\n"
   ]
  },
  {
   "cell_type": "code",
   "execution_count": 4,
   "metadata": {
    "collapsed": true
   },
   "outputs": [],
   "source": [
    "#######  Quelques fonctions utiles ###################\n",
    "\n",
    "# Probabilité d'IBS\n",
    "pIBS <- function(simResults, populationSamplesIDs){\n",
    "  # Calcule la probabilité d'être identique\n",
    "  # simResults : resultats d'une simulation avec coala\n",
    "  # populationSamplesIDs : un vecteur avec les indices des séquences à considérer\n",
    "  nbSequences <- length(populationSamplesIDs)\n",
    "  nbSites <- length(simResults$seg_sites)\n",
    "  ibsTemp <- 0\n",
    "  for(i in 1:nbSites){\n",
    "    subpop <- as.matrix(simResults$seg_sites[[i]]$snps[populationSamplesIDs, ])\n",
    "    haplotypes <- apply(subpop, MARGIN = 1, paste, collapse=\"\")\n",
    "    haplotypesTab <- table(haplotypes)\n",
    "    identicalPairs <- sum(choose(haplotypesTab, 2))\n",
    "    totalPairs <- choose(nbSequences, 2)\n",
    "    ibsTemp <- ibsTemp + identicalPairs/totalPairs\n",
    "  }\n",
    "  return(ibsTemp/nbSites)\n",
    "}\n",
    "\n",
    "# Calcul du Fst \n",
    "computef0 <- function(simResults, samplesInPopList){\n",
    "  nbSubPop <- length(samplesInPopList)\n",
    "  f0temp <- 0\n",
    "  for(samplesIds in samplesInPopList){\n",
    "    f0temp <- f0temp + pIBS(simResults, samplesIds)\n",
    "  }\n",
    "  f0 <- f0temp / nbSubPop\n",
    "  return(f0)\n",
    "}\n",
    "computeFst <- function(simResults, samplesInPopList){\n",
    "  totalSampleSize <- dim(simResults$seg_sites[[1]]$snps)[1]\n",
    "  fBar <- pIBS(simResults, 1:totalSampleSize)\n",
    "  f0 <- computef0(simResults, samplesInPopList) \n",
    "  Fst <- (f0 - fBar)/(1 - fBar)\n",
    "  return(Fst)\n",
    "}\n"
   ]
  },
  {
   "cell_type": "code",
   "execution_count": 5,
   "metadata": {},
   "outputs": [
    {
     "name": "stdout",
     "output_type": "stream",
     "text": [
      "[1] \"Le Fst vaut : -0.000136218255004079\"\n"
     ]
    }
   ],
   "source": [
    "# Le Fst dans un modèle panmictique devrait être égale à zéro.\n",
    "\n",
    "# Modèle panmictique (pas de difference entre $f_0_$ et $\\bar{f})\n",
    "model <- coal_model(sample_size=100,loci_number=loc, loci_length=L,ploidy=1) + \n",
    "  feat_mutation(rate=theta*L) + sumstat_seg_sites()\n",
    "\n",
    "res <- simulate(model)\n",
    "samplesInPopList <- list(1:20, 21:40, 41:60, 61:80, 81:100)\n",
    "Fst <- computeFst(res, samplesInPopList)\n",
    "print(paste(\"Le Fst vaut :\", Fst))"
   ]
  },
  {
   "cell_type": "code",
   "execution_count": 6,
   "metadata": {},
   "outputs": [
    {
     "name": "stdout",
     "output_type": "stream",
     "text": [
      "[1] \"Le Fst vaut : 0.330153104388284\"\n"
     ]
    }
   ],
   "source": [
    "# Modèle de population structurée. n-islands avec n=5 et M=1\n",
    "structModel <- coal_model(sample_size=c(20, 20, 20, 20, 20), loci_number=loc, loci_length=L,ploidy=1) + \n",
    "  feat_migration(1, symmetric = TRUE) + feat_mutation(rate=theta*L) + sumstat_seg_sites()\n",
    "\n",
    "structRes <- simulate(structModel)\n",
    "samplesInPopList <- list(1:20, 21:40, 41:60, 61:80, 81:100)\n",
    "Fst <- computeFst(structRes, samplesInPopList)\n",
    "print(paste(\"Le Fst vaut :\", Fst))"
   ]
  },
  {
   "cell_type": "markdown",
   "metadata": {},
   "source": [
    "# Estimation du flux de gènes\n",
    "\n",
    "Il est possible d'estimer le taux de migration ($Nm$) à partir de la valeur du $F_{ST}$ (voir Herbots 1994) en se basant sur la formule :\n",
    "\n",
    "$$Nm\\approx \\frac{1}{4}\\Big(\\frac{1}{F_{ST}} - 1 \\Big)$$\n",
    "\n",
    "Nous allons estimer la valeur du $M$ pour un modèle de population structurée. "
   ]
  },
  {
   "cell_type": "code",
   "execution_count": 9,
   "metadata": {
    "collapsed": true
   },
   "outputs": [],
   "source": [
    "# Fonction pour estimer le flux de gènes\n",
    "estimateM <- function(simResults, samplesInPopList){\n",
    "  Fst <- computeFst(simResults, samplesInPopList)\n",
    "  M <- 0.25 * (1.0/Fst - 1)\n",
    "  return(M)\n",
    "}"
   ]
  },
  {
   "cell_type": "code",
   "execution_count": 10,
   "metadata": {},
   "outputs": [
    {
     "name": "stdout",
     "output_type": "stream",
     "text": [
      "[1] \"Le Fst vaut : 0.174954861433861\"\n",
      "[1] \"Le flux de gènes estimé est : 1.17894000173016\"\n"
     ]
    }
   ],
   "source": [
    "# Modèle de population structurée. n-islands avec n=2 et M=1\n",
    "structModel_n2 <- coal_model(sample_size=c(20, 20), loci_number=loc, loci_length=L,ploidy=1) + \n",
    "  feat_migration(1, symmetric = TRUE) + feat_mutation(rate=theta*L) + sumstat_seg_sites()\n",
    "\n",
    "structRes <- simulate(structModel_n2)\n",
    "samplesInPopList <- list(1:20, 21:40)\n",
    "Fst <- computeFst(structRes, samplesInPopList)\n",
    "M <- 0.25 * (1.0/Fst - 1)\n",
    "print(paste(\"Le Fst vaut :\", Fst))\n",
    "print(paste(\"Le flux de gènes estimé est :\", M))"
   ]
  },
  {
   "cell_type": "code",
   "execution_count": 11,
   "metadata": {},
   "outputs": [
    {
     "name": "stdout",
     "output_type": "stream",
     "text": [
      "[1] \"Le Fst vaut : 0.329354297627159\"\n",
      "[1] \"Le flux de gènes estimé est : 0.509060992375478\"\n"
     ]
    }
   ],
   "source": [
    "# Modèle de population structurée. n-islands avec n=5 et M=1\n",
    "structModel_n5 <- coal_model(sample_size=c(20, 20, 20, 20, 20), loci_number=loc, loci_length=L,ploidy=1) + \n",
    "  feat_migration(1, symmetric = TRUE) + feat_mutation(rate=theta*L) + sumstat_seg_sites()\n",
    "\n",
    "structRes <- simulate(structModel_n5)\n",
    "samplesInPopList <- list(1:20, 21:40, 41:60, 61:80, 81:100)\n",
    "Fst <- computeFst(structRes, samplesInPopList)\n",
    "M <- 0.25 * (1.0/Fst - 1)\n",
    "print(paste(\"Le Fst vaut :\", Fst))\n",
    "print(paste(\"Le flux de gènes estimé est :\", M))"
   ]
  },
  {
   "cell_type": "code",
   "execution_count": 13,
   "metadata": {
    "collapsed": true
   },
   "outputs": [],
   "source": [
    "estimFst <- function(nbIslands, MigRate, nbSamplesPerIsland, \n",
    "                     loc=10000, L=1000, theta=4e-04){\n",
    "  sampleVector <- rep(nbSamplesPerIsland, nbIslands)\n",
    "  samplesInPopList <- lapply(1:nbIslands, FUN = function(i){(nbSamplesPerIsland*(i-1)+1):(nbSamplesPerIsland*i)})\n",
    "  model <- coal_model(sample_size=sampleVector, loci_number=loc, loci_length=L,ploidy=1) + \n",
    "    feat_migration(MigRate, symmetric = TRUE) + feat_mutation(rate=theta*L) + sumstat_seg_sites()\n",
    "  res <- simulate(model)\n",
    "  Fst <- computeFst(res, samplesInPopList)\n",
    "  M <- 0.25 * (1.0/Fst - 1)\n",
    "  return(c(Fst, M))\n",
    "}"
   ]
  },
  {
   "cell_type": "code",
   "execution_count": null,
   "metadata": {
    "collapsed": true
   },
   "outputs": [],
   "source": []
  }
 ],
 "metadata": {
  "kernelspec": {
   "display_name": "R",
   "language": "R",
   "name": "ir"
  },
  "language_info": {
   "codemirror_mode": "r",
   "file_extension": ".r",
   "mimetype": "text/x-r-source",
   "name": "R",
   "pygments_lexer": "r",
   "version": "3.2.3"
  }
 },
 "nbformat": 4,
 "nbformat_minor": 2
}
